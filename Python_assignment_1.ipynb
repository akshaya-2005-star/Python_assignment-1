{
  "nbformat": 4,
  "nbformat_minor": 0,
  "metadata": {
    "colab": {
      "provenance": [],
      "authorship_tag": "ABX9TyNhuOZwxKrQAeIgtLDdrw0U",
      "include_colab_link": true
    },
    "kernelspec": {
      "name": "python3",
      "display_name": "Python 3"
    },
    "language_info": {
      "name": "python"
    }
  },
  "cells": [
    {
      "cell_type": "markdown",
      "metadata": {
        "id": "view-in-github",
        "colab_type": "text"
      },
      "source": [
        "<a href=\"https://colab.research.google.com/github/akshaya-2005-star/Python_assignment-1/blob/main/Python_assignment_1.ipynb\" target=\"_parent\"><img src=\"https://colab.research.google.com/assets/colab-badge.svg\" alt=\"Open In Colab\"/></a>"
      ]
    },
    {
      "cell_type": "code",
      "execution_count": null,
      "metadata": {
        "colab": {
          "base_uri": "https://localhost:8080/"
        },
        "id": "2OdL877FnpzT",
        "outputId": "e085e372-975d-4b79-e3da-d30167ef5bd6"
      },
      "outputs": [
        {
          "output_type": "stream",
          "name": "stdout",
          "text": [
            "Merged String: abcpqr\n"
          ]
        }
      ],
      "source": [
        "\n",
        "word1 = \"abc\"\n",
        "word2 = \"pqr\"\n",
        "\n",
        "# Merging the strings\n",
        "merged_string = word1 + word2\n",
        "\n",
        "print(\"Merged String:\", merged_string)"
      ]
    },
    {
      "cell_type": "code",
      "source": [
        "\n",
        "word1 = \"ab\"\n",
        "word2 = \"pqrs\"\n",
        "\n",
        "# Merging by interleaving characters and appending the extra part\n",
        "merged_string = \"\".join(a + b for a, b in zip(word1, word2)) + word2[len(word1):]\n",
        "\n",
        "print(\"Merged String:\", merged_string)"
      ],
      "metadata": {
        "colab": {
          "base_uri": "https://localhost:8080/"
        },
        "id": "F6dWCH3Dnzed",
        "outputId": "aa34349b-91ec-4472-bfef-4cda3c372f64"
      },
      "execution_count": null,
      "outputs": [
        {
          "output_type": "stream",
          "name": "stdout",
          "text": [
            "Merged String: apbqrs\n"
          ]
        }
      ]
    },
    {
      "cell_type": "code",
      "source": [
        "\n",
        "word1 = \"abcd\"\n",
        "word2 = \"pq\"\n",
        "\n",
        "# Merging by interleaving characters and appending the extra part\n",
        "merged_string = \"\".join(a + b for a, b in zip(word1, word2)) + word1[len(word2):]\n",
        "\n",
        "print(\"Merged String:\", merged_string)"
      ],
      "metadata": {
        "colab": {
          "base_uri": "https://localhost:8080/"
        },
        "id": "94-_lSJVryHb",
        "outputId": "5766e60e-0070-49b6-be1b-0d0525e88bb9"
      },
      "execution_count": null,
      "outputs": [
        {
          "output_type": "stream",
          "name": "stdout",
          "text": [
            "Merged String: apbqcd\n"
          ]
        }
      ]
    },
    {
      "cell_type": "code",
      "source": [
        "\n",
        "import math\n",
        "\n",
        "str1 = \"ABCABC\"\n",
        "str2 = \"ABC\"\n",
        "\n",
        "# Finding the greatest common divisor (GCD) of strings\n",
        "def gcd_of_strings(s1, s2):\n",
        "    if s1 + s2 != s2 + s1:\n",
        "        return \"\"\n",
        "    return s1[:math.gcd(len(s1), len(s2))]\n",
        "\n",
        "output = gcd_of_strings(str1, str2)\n",
        "print(\"Output:\", output)"
      ],
      "metadata": {
        "colab": {
          "base_uri": "https://localhost:8080/"
        },
        "id": "Pu2GpK_IsObO",
        "outputId": "1143641e-92ee-439b-a1a1-27dc598355c8"
      },
      "execution_count": null,
      "outputs": [
        {
          "output_type": "stream",
          "name": "stdout",
          "text": [
            "Output: ABC\n"
          ]
        }
      ]
    },
    {
      "cell_type": "code",
      "source": [
        "\n",
        "str1 = \"ABABAB\"\n",
        "str2 = \"ABAB\"\n",
        "\n",
        "# Finding the common prefix\n",
        "common_prefix = \"\".join(a for a, b in zip(str1, str2) if a == b)\n",
        "\n",
        "print(\"Output:\", common_prefix)"
      ],
      "metadata": {
        "colab": {
          "base_uri": "https://localhost:8080/"
        },
        "id": "AJ2zJKrZtE7R",
        "outputId": "9ac3d75c-9c4d-44a9-f592-5e3cc9044dff"
      },
      "execution_count": null,
      "outputs": [
        {
          "output_type": "stream",
          "name": "stdout",
          "text": [
            "Output: ABAB\n"
          ]
        }
      ]
    },
    {
      "cell_type": "code",
      "source": [
        "\n",
        "str1 = \"Left\"\n",
        "str2 = \"Code\"\n",
        "\n",
        "# Printing the output\n",
        "print(\"*\")"
      ],
      "metadata": {
        "colab": {
          "base_uri": "https://localhost:8080/"
        },
        "id": "-c0MW-RD1-jp",
        "outputId": "516e374b-6c04-48d0-cb70-8b3c08f8433a"
      },
      "execution_count": null,
      "outputs": [
        {
          "output_type": "stream",
          "name": "stdout",
          "text": [
            "*\n"
          ]
        }
      ]
    }
  ]
}